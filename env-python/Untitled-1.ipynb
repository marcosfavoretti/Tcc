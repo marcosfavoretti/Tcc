{
 "cells": [
  {
   "cell_type": "code",
   "execution_count": 3,
   "id": "ecf1f714",
   "metadata": {},
   "outputs": [],
   "source": [
    "import qiskit\n",
    "\n",
    "from qiskit_ibm_runtime import QiskitRuntimeService"
   ]
  },
  {
   "cell_type": "code",
   "execution_count": null,
   "id": "56750e58",
   "metadata": {},
   "outputs": [
    {
     "name": "stderr",
     "output_type": "stream",
     "text": [
      "management.get:WARNING:2025-09-30 20:11:48,604: Loading default saved account\n"
     ]
    },
    {
     "ename": "IBMInputValueError",
     "evalue": "'The instance specified (ibm-q/open/main) is not a valid instance name.'",
     "output_type": "error",
     "traceback": [
      "\u001b[31m---------------------------------------------------------------------------\u001b[39m",
      "\u001b[31mIBMInputValueError\u001b[39m                        Traceback (most recent call last)",
      "\u001b[36mCell\u001b[39m\u001b[36m \u001b[39m\u001b[32mIn[5]\u001b[39m\u001b[32m, line 13\u001b[39m\n\u001b[32m      5\u001b[39m QiskitRuntimeService.save_account(\n\u001b[32m      6\u001b[39m     channel=\u001b[33m\"\u001b[39m\u001b[33mibm_quantum_platform\u001b[39m\u001b[33m\"\u001b[39m, \n\u001b[32m      7\u001b[39m     token=seu_token, \n\u001b[32m      8\u001b[39m     instance=\u001b[33m'\u001b[39m\u001b[33mibm-q/open/main\u001b[39m\u001b[33m'\u001b[39m,\n\u001b[32m      9\u001b[39m     overwrite=\u001b[38;5;28;01mTrue\u001b[39;00m\n\u001b[32m     10\u001b[39m )\n\u001b[32m     12\u001b[39m \u001b[38;5;66;03m# Após salvar, você pode verificar se funciona\u001b[39;00m\n\u001b[32m---> \u001b[39m\u001b[32m13\u001b[39m service = \u001b[43mQiskitRuntimeService\u001b[49m\u001b[43m(\u001b[49m\u001b[43m)\u001b[49m\n\u001b[32m     14\u001b[39m \u001b[38;5;28mprint\u001b[39m(\u001b[33m\"\u001b[39m\u001b[33mCredenciais salvas com sucesso!\u001b[39m\u001b[33m\"\u001b[39m)\n\u001b[32m     15\u001b[39m \u001b[38;5;28mprint\u001b[39m(\u001b[33m\"\u001b[39m\u001b[33mBackends disponíveis:\u001b[39m\u001b[33m\"\u001b[39m, service.backends())\n",
      "\u001b[36mFile \u001b[39m\u001b[32mc:\\Users\\marco\\OneDrive\\Documentos\\TCC\\dev\\env-python\\.venv\\Lib\\site-packages\\qiskit_ibm_runtime\\qiskit_runtime_service.py:196\u001b[39m, in \u001b[36mQiskitRuntimeService.__init__\u001b[39m\u001b[34m(self, channel, token, url, filename, name, instance, proxies, verify, private_endpoint, url_resolver, region, plans_preference, tags)\u001b[39m\n\u001b[32m    194\u001b[39m \u001b[38;5;28mself\u001b[39m._all_instances: List[Dict[\u001b[38;5;28mstr\u001b[39m, Any]] = []\n\u001b[32m    195\u001b[39m \u001b[38;5;28mself\u001b[39m._saved_instances: List[\u001b[38;5;28mstr\u001b[39m] = []\n\u001b[32m--> \u001b[39m\u001b[32m196\u001b[39m \u001b[38;5;28mself\u001b[39m._account = \u001b[38;5;28;43mself\u001b[39;49m\u001b[43m.\u001b[49m\u001b[43m_discover_account\u001b[49m\u001b[43m(\u001b[49m\n\u001b[32m    197\u001b[39m \u001b[43m    \u001b[49m\u001b[43mtoken\u001b[49m\u001b[43m=\u001b[49m\u001b[43mtoken\u001b[49m\u001b[43m,\u001b[49m\n\u001b[32m    198\u001b[39m \u001b[43m    \u001b[49m\u001b[43murl\u001b[49m\u001b[43m=\u001b[49m\u001b[43murl\u001b[49m\u001b[43m,\u001b[49m\n\u001b[32m    199\u001b[39m \u001b[43m    \u001b[49m\u001b[43minstance\u001b[49m\u001b[43m=\u001b[49m\u001b[43minstance\u001b[49m\u001b[43m,\u001b[49m\n\u001b[32m    200\u001b[39m \u001b[43m    \u001b[49m\u001b[43mchannel\u001b[49m\u001b[43m=\u001b[49m\u001b[43mchannel\u001b[49m\u001b[43m,\u001b[49m\n\u001b[32m    201\u001b[39m \u001b[43m    \u001b[49m\u001b[43mfilename\u001b[49m\u001b[43m=\u001b[49m\u001b[43mfilename\u001b[49m\u001b[43m,\u001b[49m\n\u001b[32m    202\u001b[39m \u001b[43m    \u001b[49m\u001b[43mname\u001b[49m\u001b[43m=\u001b[49m\u001b[43mname\u001b[49m\u001b[43m,\u001b[49m\n\u001b[32m    203\u001b[39m \u001b[43m    \u001b[49m\u001b[43mproxies\u001b[49m\u001b[43m=\u001b[49m\u001b[43mProxyConfiguration\u001b[49m\u001b[43m(\u001b[49m\u001b[43m*\u001b[49m\u001b[43m*\u001b[49m\u001b[43mproxies\u001b[49m\u001b[43m)\u001b[49m\u001b[43m \u001b[49m\u001b[38;5;28;43;01mif\u001b[39;49;00m\u001b[43m \u001b[49m\u001b[43mproxies\u001b[49m\u001b[43m \u001b[49m\u001b[38;5;28;43;01melse\u001b[39;49;00m\u001b[43m \u001b[49m\u001b[38;5;28;43;01mNone\u001b[39;49;00m\u001b[43m,\u001b[49m\n\u001b[32m    204\u001b[39m \u001b[43m    \u001b[49m\u001b[43mverify\u001b[49m\u001b[43m=\u001b[49m\u001b[43mverify\u001b[49m\u001b[43m,\u001b[49m\n\u001b[32m    205\u001b[39m \u001b[43m\u001b[49m\u001b[43m)\u001b[49m\n\u001b[32m    207\u001b[39m \u001b[38;5;28;01mif\u001b[39;00m private_endpoint \u001b[38;5;129;01mis\u001b[39;00m \u001b[38;5;129;01mnot\u001b[39;00m \u001b[38;5;28;01mNone\u001b[39;00m:\n\u001b[32m    208\u001b[39m     \u001b[38;5;28mself\u001b[39m._account.private_endpoint = private_endpoint\n",
      "\u001b[36mFile \u001b[39m\u001b[32mc:\\Users\\marco\\OneDrive\\Documentos\\TCC\\dev\\env-python\\.venv\\Lib\\site-packages\\qiskit_ibm_runtime\\qiskit_runtime_service.py:441\u001b[39m, in \u001b[36mQiskitRuntimeService._discover_account\u001b[39m\u001b[34m(self, token, url, instance, channel, filename, name, proxies, verify)\u001b[39m\n\u001b[32m    435\u001b[39m \u001b[38;5;66;03m# if instance is a name, change it to crn format\u001b[39;00m\n\u001b[32m    436\u001b[39m \u001b[38;5;28;01mif\u001b[39;00m (\n\u001b[32m    437\u001b[39m     account.channel \u001b[38;5;129;01min\u001b[39;00m [\u001b[33m\"\u001b[39m\u001b[33mibm_cloud\u001b[39m\u001b[33m\"\u001b[39m, \u001b[33m\"\u001b[39m\u001b[33mibm_quantum_platform\u001b[39m\u001b[33m\"\u001b[39m]\n\u001b[32m    438\u001b[39m     \u001b[38;5;129;01mand\u001b[39;00m account.instance\n\u001b[32m    439\u001b[39m     \u001b[38;5;129;01mand\u001b[39;00m \u001b[38;5;129;01mnot\u001b[39;00m is_crn(account.instance)\n\u001b[32m    440\u001b[39m ):\n\u001b[32m--> \u001b[39m\u001b[32m441\u001b[39m     account.instance = \u001b[38;5;28;43mself\u001b[39;49m\u001b[43m.\u001b[49m\u001b[43m_get_crn_from_instance_name\u001b[49m\u001b[43m(\u001b[49m\n\u001b[32m    442\u001b[39m \u001b[43m        \u001b[49m\u001b[43maccount\u001b[49m\u001b[43m=\u001b[49m\u001b[43maccount\u001b[49m\u001b[43m,\u001b[49m\u001b[43m \u001b[49m\u001b[43minstance\u001b[49m\u001b[43m=\u001b[49m\u001b[43maccount\u001b[49m\u001b[43m.\u001b[49m\u001b[43minstance\u001b[49m\n\u001b[32m    443\u001b[39m \u001b[43m    \u001b[49m\u001b[43m)\u001b[49m\n\u001b[32m    445\u001b[39m \u001b[38;5;66;03m# ensure account is valid, fail early if not\u001b[39;00m\n\u001b[32m    446\u001b[39m account.validate()\n",
      "\u001b[36mFile \u001b[39m\u001b[32mc:\\Users\\marco\\OneDrive\\Documentos\\TCC\\dev\\env-python\\.venv\\Lib\\site-packages\\qiskit_ibm_runtime\\qiskit_runtime_service.py:463\u001b[39m, in \u001b[36mQiskitRuntimeService._get_crn_from_instance_name\u001b[39m\u001b[34m(self, account, instance)\u001b[39m\n\u001b[32m    461\u001b[39m     \u001b[38;5;28;01mreturn\u001b[39;00m matching_instances[\u001b[32m0\u001b[39m][\u001b[33m\"\u001b[39m\u001b[33mcrn\u001b[39m\u001b[33m\"\u001b[39m]\n\u001b[32m    462\u001b[39m \u001b[38;5;28;01melse\u001b[39;00m:\n\u001b[32m--> \u001b[39m\u001b[32m463\u001b[39m     \u001b[38;5;28;01mraise\u001b[39;00m IBMInputValueError(\n\u001b[32m    464\u001b[39m         \u001b[33mf\u001b[39m\u001b[33m\"\u001b[39m\u001b[33mThe instance specified (\u001b[39m\u001b[38;5;132;01m{\u001b[39;00minstance\u001b[38;5;132;01m}\u001b[39;00m\u001b[33m) is not a valid \u001b[39m\u001b[33m\"\u001b[39m \u001b[33m\"\u001b[39m\u001b[33minstance name.\u001b[39m\u001b[33m\"\u001b[39m\n\u001b[32m    465\u001b[39m     )\n",
      "\u001b[31mIBMInputValueError\u001b[39m: 'The instance specified (ibm-q/open/main) is not a valid instance name.'"
     ]
    }
   ],
   "source": [
    "\n",
    "# Substitua \"seu_token_real_aqui\" pelo seu token copiado do site da IBM\n",
    "seu_token = \"y2dKqxGSyKCp_qwQJDgWFd0ec96rsgiJl9kPKeEai3Rd\"\n",
    "\n",
    "# CORREÇÃO: Use channel=\"ibm_quantum\"\n",
    "QiskitRuntimeService.save_account(\n",
    "    channel=\"ibm_quantum_platform\", \n",
    "    token=seu_token, \n",
    "    overwrite=True\n",
    ")\n",
    "\n",
    "# Após salvar, você pode verificar se funciona\n",
    "service = QiskitRuntimeService()\n",
    "print(\"Credenciais salvas com sucesso!\")\n",
    "print(\"Backends disponíveis:\", service.backends())"
   ]
  },
  {
   "cell_type": "markdown",
   "id": "efda98ce",
   "metadata": {},
   "source": []
  }
 ],
 "metadata": {
  "kernelspec": {
   "display_name": ".venv",
   "language": "python",
   "name": "python3"
  },
  "language_info": {
   "codemirror_mode": {
    "name": "ipython",
    "version": 3
   },
   "file_extension": ".py",
   "mimetype": "text/x-python",
   "name": "python",
   "nbconvert_exporter": "python",
   "pygments_lexer": "ipython3",
   "version": "3.11.6"
  }
 },
 "nbformat": 4,
 "nbformat_minor": 5
}
