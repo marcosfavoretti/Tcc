{
 "cells": [
  {
   "cell_type": "code",
   "execution_count": 4,
   "metadata": {},
   "outputs": [],
   "source": [
    "import os\n",
    "from py2neo import Graph, Node, Relationship\n",
    "from tqdm import tqdm\n",
    "from itertools import permutations\n",
    "\n"
   ]
  },
  {
   "cell_type": "code",
   "execution_count": 5,
   "metadata": {},
   "outputs": [],
   "source": [
    "\n",
    "user = os.getenv(\"DB_USER\")\n",
    "password = os.getenv(\"DB_PASS\")\n",
    "\n",
    "graph_db: Graph = Graph(\"bolt://localhost:7687\", auth=(user, password))"
   ]
  },
  {
   "cell_type": "markdown",
   "metadata": {},
   "source": [
    "### lista para o algoritmos ###\n",
    "* passar uma lista de pontos de interesse junto com o ponto inicial \n",
    "* calcular a distancia relativa entre os pontos\n",
    "* testar todas as possibilidades de caminhos ate encontrar o menor (força bruta)"
   ]
  },
  {
   "cell_type": "code",
   "execution_count": 6,
   "metadata": {},
   "outputs": [],
   "source": [
    "#achar a rua mais perto do ponto passado\n",
    "def findRoadById(id: int):\n",
    "    query = f'''\n",
    "    MATCH  (n: Node) where id(n) = {id} return n\n",
    "    '''\n",
    "    return graph_db.run(query)\n",
    "\n",
    "def findRoadId(latitude: float, longitude: float):\n",
    "    query = f'''\n",
    "    WITH {latitude} AS targetLat, {longitude} AS targetLon  \n",
    "\n",
    "    MATCH (a)-[r:ROAD_TO]->(b)\n",
    "    WHERE a.latitude IS NOT NULL AND a.longitude IS NOT NULL\n",
    "    AND b.latitude IS NOT NULL AND b.longitude IS NOT NULL\n",
    "\n",
    "    WITH r, a, b,\n",
    "        point({{y: a.latitude, x: a.longitude}}) AS pointA,\n",
    "        point({{y: b.latitude, x: b.longitude}}) AS pointB,\n",
    "        point({{y: targetLat, x: targetLon}}) AS targetPoint\n",
    "\n",
    "    WITH r, a, b,\n",
    "        point.distance(pointA, targetPoint) AS distA,\n",
    "        point.distance(pointB, targetPoint) AS distB\n",
    "\n",
    "    WITH r, a, b,\n",
    "        CASE WHEN distA < distB THEN distA ELSE distB END AS minDist\n",
    "\n",
    "    ORDER BY minDist ASC\n",
    "    LIMIT 1\n",
    "\n",
    "    RETURN id(r)\n",
    "    '''\n",
    "    result = graph_db.run(query).data()\n",
    "    if result:\n",
    "        return result[0]['id(r)']\n",
    "    return None\n",
    "\n",
    "def shortPath(paramA: int, paramB: int):\n",
    "    query = '''\n",
    "    CALL {\n",
    "        MATCH (start)\n",
    "        WHERE id(start) = $paramA\n",
    "        MATCH (end)\n",
    "        WHERE id(end) = $paramB\n",
    "        MATCH path = shortestPath((start)-[rels:ROAD_TO*]->(end))\n",
    "        RETURN reduce(total = 0, r IN rels | total + r.length) AS totalLength\n",
    "    }\n",
    "    RETURN totalLength\n",
    "    '''\n",
    "    result = graph_db.run(query, paramA=paramA, paramB=paramB).data()\n",
    "    if result:\n",
    "        return result[0]['totalLength']\n",
    "    return None"
   ]
  },
  {
   "cell_type": "code",
   "execution_count": null,
   "metadata": {},
   "outputs": [],
   "source": [
    "# achar o ponto mais perto entre os pontos de interesse\n"
   ]
  },
  {
   "cell_type": "code",
   "execution_count": 16,
   "metadata": {},
   "outputs": [
    {
     "name": "stdout",
     "output_type": "stream",
     "text": [
      "806 [722, 1262, 1128, 807, 147]\n"
     ]
    },
    {
     "data": {
      "text/plain": [
       "[[{722: 1161.179680715414},\n",
       "  {1262: 4107.834821375691},\n",
       "  {1128: 18026.44364496582},\n",
       "  {807: 85.9036423123307},\n",
       "  {147: 1755.4481158540134}],\n",
       " [{806: 1161.179680715414},\n",
       "  {1262: 5267.006141372333},\n",
       "  {1128: 13786.146945521474},\n",
       "  {807: 1247.0833230277447},\n",
       "  {147: 1133.7518922522409}],\n",
       " [{806: 4186.302544081699},\n",
       "  {722: 6153.835243274004},\n",
       "  {1128: 18019.600171421775},\n",
       "  {807: 4272.20618639403},\n",
       "  {147: 5676.962000153013}],\n",
       " [{806: 16147.846878304805},\n",
       "  {722: 7805.651653053697},\n",
       "  {1262: 16572.17763632855},\n",
       "  {807: 16233.750520617135},\n",
       "  {147: 6664.744507471153}],\n",
       " [{806: 85.9036423123307},\n",
       "  {722: 1247.0833230277444},\n",
       "  {1262: 4022.5637541514934},\n",
       "  {1128: 17941.17257774162},\n",
       "  {147: 1841.351758166344}],\n",
       " [{806: 1755.4481158540132},\n",
       "  {722: 1133.7518922522409},\n",
       "  {1262: 6098.686584560372},\n",
       "  {1128: 13234.250080272503},\n",
       "  {807: 1841.3517581663439}]]"
      ]
     },
     "metadata": {},
     "output_type": "display_data"
    }
   ],
   "source": [
    "\n",
    "initialRoad = findRoadId(latitude=-23.2848682, longitude=-47.6720885)\n",
    "\n",
    "target_points = [\n",
    "    findRoadId(latitude=-23.2999866, longitude=-47.6650897),\n",
    "    findRoadId(latitude=-23.2829741, longitude=-47.6745936),\n",
    "    findRoadId(-23.276087796084404, -47.67514362249426),\n",
    "    findRoadId(latitude=-23.2847718, longitude=-47.6730844),\n",
    "    findRoadId(latitude=-24.2847718, longitude=-47.6730844)\n",
    "]\n",
    "\n",
    "print(initialRoad, target_points)\n",
    "\n",
    "points = [initialRoad, *target_points]\n",
    "\n",
    "result = []\n",
    "for id in points:\n",
    "    subResult = []\n",
    "    for subid in points:\n",
    "        if id != subid:\n",
    "            subResult.append({subid:shortPath(id, subid)})\n",
    "    result.append(subResult)\n",
    "\n",
    "display(result)\n"
   ]
  },
  {
   "cell_type": "code",
   "execution_count": 19,
   "metadata": {},
   "outputs": [
    {
     "name": "stdout",
     "output_type": "stream",
     "text": [
      "Numero de interações 120\n",
      "Menor caminho: [806, 1262, 807, 722, 147, 1128]\n",
      "Menor distancia(m): 23995.126303322206\n"
     ]
    }
   ],
   "source": [
    "# --> (n-1)!\n",
    "\n",
    "def brute_force_shortest_path(points):\n",
    "    min_distance = float('inf')\n",
    "    best_path = None\n",
    "    pointer = 0\n",
    "    for perm in permutations(points[1:]):\n",
    "        path = [points[0], *perm]\n",
    "        total_distance = 0\n",
    "        pointer +=1\n",
    "        for i in range(len(path) - 1):\n",
    "            total_distance += shortPath(path[i], path[i + 1])\n",
    "\n",
    "        if total_distance < min_distance:\n",
    "            min_distance = total_distance\n",
    "            best_path = path\n",
    "    print('Numero de interações', pointer)\n",
    "    return best_path, min_distance\n",
    "\n",
    "\n",
    "shortest_path, shortest_distance = brute_force_shortest_path(points)\n",
    "print(\"Menor caminho:\", shortest_path)\n",
    "print(\"Menor distancia(m):\", shortest_distance)"
   ]
  },
  {
   "cell_type": "code",
   "execution_count": null,
   "metadata": {},
   "outputs": [],
   "source": []
  }
 ],
 "metadata": {
  "kernelspec": {
   "display_name": ".venv",
   "language": "python",
   "name": "python3"
  },
  "language_info": {
   "codemirror_mode": {
    "name": "ipython",
    "version": 3
   },
   "file_extension": ".py",
   "mimetype": "text/x-python",
   "name": "python",
   "nbconvert_exporter": "python",
   "pygments_lexer": "ipython3",
   "version": "3.12.2"
  }
 },
 "nbformat": 4,
 "nbformat_minor": 2
}
