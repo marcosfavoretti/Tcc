{
 "cells": [
  {
   "cell_type": "code",
   "execution_count": 44,
   "metadata": {},
   "outputs": [],
   "source": [
    "import os\n",
    "from py2neo import Graph, Node, Relationship\n",
    "from tqdm import tqdm\n",
    "\n"
   ]
  },
  {
   "cell_type": "code",
   "execution_count": 45,
   "metadata": {},
   "outputs": [],
   "source": [
    "\n",
    "user = os.getenv(\"DB_USER\")\n",
    "password = os.getenv(\"DB_PASS\")\n",
    "\n",
    "graph_db: Graph = Graph(\"bolt://localhost:7687\", auth=(user, password))"
   ]
  },
  {
   "cell_type": "markdown",
   "metadata": {},
   "source": [
    "### lista para o algoritmos ###\n",
    "* passar uma lista de pontos de interesse junto com o ponto inicial \n",
    "* calcular a distancia relativa entre os pontos\n",
    "* testar todas as possibilidades de caminhos ate encontrar o menor (força bruta)"
   ]
  },
  {
   "cell_type": "code",
   "execution_count": 46,
   "metadata": {},
   "outputs": [],
   "source": [
    "#achar a rua mais perto do ponto passado\n",
    "def findRoadById(id: int):\n",
    "    query = f'''\n",
    "    MATCH  (n: Node) where id(n) = {id} return n\n",
    "    '''\n",
    "    return graph_db.run(query)\n",
    "\n",
    "def findRoadId(latitude: float, longitude: float):\n",
    "    query = f'''\n",
    "    WITH {latitude} AS targetLat, {longitude} AS targetLon  \n",
    "\n",
    "    MATCH (a)-[r:ROAD_TO]->(b)\n",
    "    WHERE a.latitude IS NOT NULL AND a.longitude IS NOT NULL\n",
    "    AND b.latitude IS NOT NULL AND b.longitude IS NOT NULL\n",
    "\n",
    "    WITH r, a, b,\n",
    "        point({{y: a.latitude, x: a.longitude}}) AS pointA,\n",
    "        point({{y: b.latitude, x: b.longitude}}) AS pointB,\n",
    "        point({{y: targetLat, x: targetLon}}) AS targetPoint\n",
    "\n",
    "    WITH r, a, b,\n",
    "        point.distance(pointA, targetPoint) AS distA,\n",
    "        point.distance(pointB, targetPoint) AS distB\n",
    "\n",
    "    WITH r, a, b,\n",
    "        CASE WHEN distA < distB THEN distA ELSE distB END AS minDist\n",
    "\n",
    "    ORDER BY minDist ASC\n",
    "    LIMIT 1\n",
    "\n",
    "    RETURN id(r)\n",
    "    '''\n",
    "    id =  graph_db.run(query)\n",
    "    return id.closed\n",
    "\n",
    "def shorPath(paramA: int, paramB: int):\n",
    "    query = f'''\n",
    "    MATCH (start), (end)\n",
    "    WHERE id(start) = {paramA} AND id(end) = {paramB}\n",
    "    MATCH path = shortestPath((start)-[rels:ROAD_TO*]->(end))\n",
    "    RETURN path,reduce(total = 0, r IN rels | total + r.length) AS totalLength\n",
    "    '''\n",
    "    return graph_db.run(query)\n"
   ]
  },
  {
   "cell_type": "code",
   "execution_count": 47,
   "metadata": {},
   "outputs": [],
   "source": [
    "# achar o ponto mais perto entre os pontos de interesse\n"
   ]
  },
  {
   "cell_type": "code",
   "execution_count": 52,
   "metadata": {},
   "outputs": [
    {
     "name": "stdout",
     "output_type": "stream",
     "text": [
      "[]\n"
     ]
    }
   ],
   "source": [
    "initialRoad = findRoadId(latitude=-23.2848682, longitude=-47.6720885)\n",
    "\n",
    "target_points = [\n",
    "    findRoadId(latitude=-23.2999866, longitude=-47.6650897),\n",
    "    findRoadId(latitude=-23.2829741, longitude=-47.6745936),\n",
    "    findRoadId(latitude=-23.2847718, longitude=-47.6730844)\n",
    "]\n",
    "\n",
    "target_points.append(initialRoad)\n",
    "result = []\n",
    "for id in target_points:\n",
    "    for subid in target_points:\n",
    "        if id != subid:\n",
    "            print(id, subid)\n",
    "            result.append(shorPath(id, subid))\n",
    "            \n",
    "print(result)\n",
    " "
   ]
  }
 ],
 "metadata": {
  "kernelspec": {
   "display_name": ".venv",
   "language": "python",
   "name": "python3"
  },
  "language_info": {
   "codemirror_mode": {
    "name": "ipython",
    "version": 3
   },
   "file_extension": ".py",
   "mimetype": "text/x-python",
   "name": "python",
   "nbconvert_exporter": "python",
   "pygments_lexer": "ipython3",
   "version": "3.12.3"
  }
 },
 "nbformat": 4,
 "nbformat_minor": 2
}
